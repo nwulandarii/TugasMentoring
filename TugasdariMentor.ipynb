{
  "nbformat": 4,
  "nbformat_minor": 0,
  "metadata": {
    "colab": {
      "provenance": []
    },
    "kernelspec": {
      "name": "python3",
      "display_name": "Python 3"
    },
    "language_info": {
      "name": "python"
    }
  },
  "cells": [
    {
      "cell_type": "code",
      "execution_count": 1,
      "metadata": {
        "colab": {
          "base_uri": "https://localhost:8080/"
        },
        "id": "U7dA_v4kob3m",
        "outputId": "dccc2ecf-a08b-4cb2-bf14-3bad80197f5e"
      },
      "outputs": [
        {
          "output_type": "stream",
          "name": "stdout",
          "text": [
            "166650\n",
            "3333.0\n"
          ]
        }
      ],
      "source": [
        "odd_numbers = [x for x in range(1, 101) if x % 2 != 0]\n",
        "squared_numbers = [x ** 2 for x in odd_numbers]\n",
        "sum_of_squares = sum(squared_numbers)\n",
        "average = sum_of_squares / len(squared_numbers)\n",
        "print(sum_of_squares)\n",
        "print(average)"
      ]
    },
    {
      "cell_type": "code",
      "source": [
        "w = int(input(\"Masukkan nilai w = \"))\n",
        "if w < 100:\n",
        "    print('Nilai kecil')\n",
        "else:\n",
        "    print('Nilai besar')"
      ],
      "metadata": {
        "colab": {
          "base_uri": "https://localhost:8080/"
        },
        "id": "osJF4eXopRPW",
        "outputId": "085f4ed5-02be-4076-eb4d-3b855c442e43"
      },
      "execution_count": 11,
      "outputs": [
        {
          "output_type": "stream",
          "name": "stdout",
          "text": [
            "Masukkan nilai w = 10\n",
            "Nilai kecil\n"
          ]
        }
      ]
    },
    {
      "cell_type": "code",
      "source": [
        "while True:\n",
        "    n = int(input(\"Masukkan nilai n = \"))\n",
        "    if n < 100:\n",
        "        print('Nilai kecil')\n",
        "    else:\n",
        "        print('Nilai besar')\n",
        "        break"
      ],
      "metadata": {
        "colab": {
          "base_uri": "https://localhost:8080/"
        },
        "id": "44A59UjXpzB6",
        "outputId": "08c008fb-b3b4-408a-d2f9-73a578f61e5e"
      },
      "execution_count": 12,
      "outputs": [
        {
          "output_type": "stream",
          "name": "stdout",
          "text": [
            "Masukkan nilai n = 20\n",
            "Nilai kecil\n",
            "Masukkan nilai n = 100\n",
            "Nilai besar\n"
          ]
        }
      ]
    },
    {
      "cell_type": "code",
      "source": [
        "password = input(\"Masukkan password = \")\n",
        "is_long_enough = len(password) >= 5\n",
        "has_9 = \"9\" in password\n",
        "has_W = \"W\" in password\n",
        "has_dot = \".\" in password\n",
        "\n",
        "if not is_long_enough:\n",
        "    print(\"Password terlalu pendek\")\n",
        "elif not has_9:\n",
        "    print(\"Password harus mengandung angka 9\")\n",
        "elif not has_W:\n",
        "    print(\"Password harus mengandung huruf W\")\n",
        "elif not has_dot:\n",
        "    print(\"Password harus mengandung simbol .\")\n",
        "else:\n",
        "    print(\"Password valid\")"
      ],
      "metadata": {
        "colab": {
          "base_uri": "https://localhost:8080/"
        },
        "id": "JexdiXDRqCav",
        "outputId": "80a696fa-4316-4676-bb39-fe371449dac0"
      },
      "execution_count": 14,
      "outputs": [
        {
          "output_type": "stream",
          "name": "stdout",
          "text": [
            "Masukkan password = cinderella\n",
            "Password harus mengandung angka 9\n"
          ]
        }
      ]
    },
    {
      "cell_type": "code",
      "source": [
        "while True:\n",
        "    password = input(\"Masukkan password = \")\n",
        "    is_long_enough = len(password) >= 5\n",
        "    has_9 = \"9\" in password\n",
        "    has_W = \"W\" in password\n",
        "    has_dot = \".\" in password\n",
        "\n",
        "    if not is_long_enough:\n",
        "        print(\"Password terlalu pendek\")\n",
        "    elif not has_9:\n",
        "        print(\"Password harus mengandung angka 9\")\n",
        "    elif not has_W:\n",
        "        print(\"Password harus mengandung huruf W\")\n",
        "    elif not has_dot:\n",
        "        print(\"Password harus mengandung simbol .\")\n",
        "    else:\n",
        "        print(\"Password valid\")\n",
        "        break"
      ],
      "metadata": {
        "colab": {
          "base_uri": "https://localhost:8080/"
        },
        "id": "KF-a2diitQH1",
        "outputId": "1fba85ba-61cd-4372-b962-66a813d13c0d"
      },
      "execution_count": 18,
      "outputs": [
        {
          "output_type": "stream",
          "name": "stdout",
          "text": [
            "Masukkan password = snowwhite\n",
            "Password harus mengandung angka 9\n",
            "Masukkan password = snowwhite9\n",
            "Password harus mengandung huruf W\n",
            "Masukkan password = snowWhite9\n",
            "Password harus mengandung simbol .\n",
            "Masukkan password = snowWhite.\n",
            "Password harus mengandung angka 9\n",
            "Masukkan password = snowWhite9.\n",
            "Password valid\n"
          ]
        }
      ]
    },
    {
      "cell_type": "code",
      "source": [
        "count = 0\n",
        "example_list = ['konfirmasi', 'nanana', 'blablabla', '2001']\n",
        "\n",
        "for i in range(len(example_list)):\n",
        "    if example_list[i][0] == example_list[i][-1]:\n",
        "        count += 1\n",
        "\n",
        "print('Jumlah string yang sama =', count)"
      ],
      "metadata": {
        "colab": {
          "base_uri": "https://localhost:8080/"
        },
        "id": "OahcSVY_qkOW",
        "outputId": "8e16d728-a0de-47d1-9474-4bc2f634920f"
      },
      "execution_count": 19,
      "outputs": [
        {
          "output_type": "stream",
          "name": "stdout",
          "text": [
            "Jumlah string yang sama = 0\n"
          ]
        }
      ]
    },
    {
      "cell_type": "code",
      "source": [
        "while True:\n",
        "    word = input(\"Masukkan kata = \")\n",
        "    if word == word[::-1]:\n",
        "        print(\"Kata adalah palindrom\")\n",
        "        break\n",
        "    else:\n",
        "        print(\"Kata bukan palindrom\")"
      ],
      "metadata": {
        "colab": {
          "base_uri": "https://localhost:8080/"
        },
        "id": "VD36dGvBqljS",
        "outputId": "ebc2f166-07b3-4dc2-ec03-e0eb1f8d0af5"
      },
      "execution_count": 7,
      "outputs": [
        {
          "output_type": "stream",
          "name": "stdout",
          "text": [
            "Masukkan kata = buah\n",
            "Kata bukan palindrom\n",
            "Masukkan kata = itu\n",
            "Kata bukan palindrom\n",
            "Masukkan kata = ini\n",
            "Kata adalah palindrom\n"
          ]
        }
      ]
    },
    {
      "cell_type": "code",
      "source": [
        "def count_letters(s):\n",
        "    letter_count = {'upper': 0, 'lower': 0}\n",
        "\n",
        "    for char in s:\n",
        "        if char.isupper():\n",
        "            letter_count['upper'] += 1\n",
        "        elif char.islower():\n",
        "            letter_count['lower'] += 1\n",
        "\n",
        "    print('String kalimat:', s)\n",
        "    print('Jumlah huruf kapital:', letter_count['upper'])\n",
        "    print('Jumlah huruf kecil:', letter_count['lower'])\n",
        "\n",
        "count_letters('MeetUinParis')\n"
      ],
      "metadata": {
        "colab": {
          "base_uri": "https://localhost:8080/"
        },
        "id": "ybixH153q0Se",
        "outputId": "db8ed62c-a5aa-464d-a838-2d6b25074907"
      },
      "execution_count": 20,
      "outputs": [
        {
          "output_type": "stream",
          "name": "stdout",
          "text": [
            "String kalimat: MeetUinParis\n",
            "Jumlah huruf kapital: 3\n",
            "Jumlah huruf kecil: 9\n"
          ]
        }
      ]
    },
    {
      "cell_type": "code",
      "source": [
        "# Kata dengan panjang ganjil\n",
        "word_list = [\"IT\", \"Telkom\", \"Purwokerto\", \"Teknik\", \"Informatika\", \"Fakultas\", \"Informatika\"]\n",
        "\n",
        "for word in word_list:\n",
        "    if len(word) % 2 == 1:\n",
        "        print(word, end=\" \")\n"
      ],
      "metadata": {
        "colab": {
          "base_uri": "https://localhost:8080/"
        },
        "id": "x_kGj9JErHy9",
        "outputId": "43c1b36b-6768-46ac-f489-226c844f9319"
      },
      "execution_count": 21,
      "outputs": [
        {
          "output_type": "stream",
          "name": "stdout",
          "text": [
            "Informatika Informatika "
          ]
        }
      ]
    },
    {
      "cell_type": "code",
      "source": [
        "# Kata dengan panjang genap\n",
        "word_list = [\"IT\", \"Telkom\", \"Purwokerto\", \"Teknik\", \"Informatika\", \"Fakultas\", \"Informatika\"]\n",
        "\n",
        "for word in word_list:\n",
        "    if len(word) % 2 == 0:\n",
        "        print(word, end=\" \")\n"
      ],
      "metadata": {
        "colab": {
          "base_uri": "https://localhost:8080/"
        },
        "id": "Y32BiJ1srI0_",
        "outputId": "99742d70-8ff2-45de-8010-2d67d76ddd01"
      },
      "execution_count": 22,
      "outputs": [
        {
          "output_type": "stream",
          "name": "stdout",
          "text": [
            "IT Telkom Purwokerto Teknik Fakultas "
          ]
        }
      ]
    }
  ]
}